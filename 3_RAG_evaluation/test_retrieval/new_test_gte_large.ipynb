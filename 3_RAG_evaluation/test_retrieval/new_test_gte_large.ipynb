{
 "cells": [
  {
   "cell_type": "code",
   "execution_count": 1,
   "metadata": {},
   "outputs": [
    {
     "name": "stderr",
     "output_type": "stream",
     "text": [
      "/home/suigpt_rag/miniconda3/envs/new_CG/lib/python3.9/site-packages/sentence_transformers/cross_encoder/CrossEncoder.py:11: TqdmExperimentalWarning: Using `tqdm.autonotebook.tqdm` in notebook mode. Use `tqdm.tqdm` instead to force console mode (e.g. in jupyter console)\n",
      "  from tqdm.autonotebook import tqdm, trange\n"
     ]
    }
   ],
   "source": [
    "import json\n",
    "from sentence_transformers import SentenceTransformer\n",
    "from sentence_transformers.util import cos_sim\n",
    "import numpy as np"
   ]
  },
  {
   "cell_type": "code",
   "execution_count": null,
   "metadata": {},
   "outputs": [
    {
     "ename": "FileNotFoundError",
     "evalue": "[Errno 2] No such file or directory: '../math_qa_all.json_v1'",
     "output_type": "error",
     "traceback": [
      "\u001b[0;31m---------------------------------------------------------------------------\u001b[0m",
      "\u001b[0;31mFileNotFoundError\u001b[0m                         Traceback (most recent call last)",
      "Cell \u001b[0;32mIn[3], line 2\u001b[0m\n\u001b[1;32m      1\u001b[0m \u001b[38;5;66;03m# 1. import testing Question dataset [Q]\u001b[39;00m\n\u001b[0;32m----> 2\u001b[0m \u001b[38;5;28;01mwith\u001b[39;00m \u001b[38;5;28;43mopen\u001b[39;49m\u001b[43m(\u001b[49m\u001b[38;5;124;43m\"\u001b[39;49m\u001b[38;5;124;43m../math_qa_all.json_v1\u001b[39;49m\u001b[38;5;124;43m\"\u001b[39;49m\u001b[43m,\u001b[49m\u001b[43m \u001b[49m\u001b[38;5;124;43m\"\u001b[39;49m\u001b[38;5;124;43mr\u001b[39;49m\u001b[38;5;124;43m\"\u001b[39;49m\u001b[43m)\u001b[49m \u001b[38;5;28;01mas\u001b[39;00m qf:\n\u001b[1;32m      3\u001b[0m     data \u001b[38;5;241m=\u001b[39m json\u001b[38;5;241m.\u001b[39mload(qf)\n\u001b[1;32m      4\u001b[0m     page_content \u001b[38;5;241m=\u001b[39m [q[\u001b[38;5;124m'\u001b[39m\u001b[38;5;124mcontent\u001b[39m\u001b[38;5;124m'\u001b[39m] \u001b[38;5;28;01mfor\u001b[39;00m q \u001b[38;5;129;01min\u001b[39;00m data]\n",
      "File \u001b[0;32m~/miniconda3/envs/new_CG/lib/python3.9/site-packages/IPython/core/interactiveshell.py:310\u001b[0m, in \u001b[0;36m_modified_open\u001b[0;34m(file, *args, **kwargs)\u001b[0m\n\u001b[1;32m    303\u001b[0m \u001b[38;5;28;01mif\u001b[39;00m file \u001b[38;5;129;01min\u001b[39;00m {\u001b[38;5;241m0\u001b[39m, \u001b[38;5;241m1\u001b[39m, \u001b[38;5;241m2\u001b[39m}:\n\u001b[1;32m    304\u001b[0m     \u001b[38;5;28;01mraise\u001b[39;00m \u001b[38;5;167;01mValueError\u001b[39;00m(\n\u001b[1;32m    305\u001b[0m         \u001b[38;5;124mf\u001b[39m\u001b[38;5;124m\"\u001b[39m\u001b[38;5;124mIPython won\u001b[39m\u001b[38;5;124m'\u001b[39m\u001b[38;5;124mt let you open fd=\u001b[39m\u001b[38;5;132;01m{\u001b[39;00mfile\u001b[38;5;132;01m}\u001b[39;00m\u001b[38;5;124m by default \u001b[39m\u001b[38;5;124m\"\u001b[39m\n\u001b[1;32m    306\u001b[0m         \u001b[38;5;124m\"\u001b[39m\u001b[38;5;124mas it is likely to crash IPython. If you know what you are doing, \u001b[39m\u001b[38;5;124m\"\u001b[39m\n\u001b[1;32m    307\u001b[0m         \u001b[38;5;124m\"\u001b[39m\u001b[38;5;124myou can use builtins\u001b[39m\u001b[38;5;124m'\u001b[39m\u001b[38;5;124m open.\u001b[39m\u001b[38;5;124m\"\u001b[39m\n\u001b[1;32m    308\u001b[0m     )\n\u001b[0;32m--> 310\u001b[0m \u001b[38;5;28;01mreturn\u001b[39;00m \u001b[43mio_open\u001b[49m\u001b[43m(\u001b[49m\u001b[43mfile\u001b[49m\u001b[43m,\u001b[49m\u001b[43m \u001b[49m\u001b[38;5;241;43m*\u001b[39;49m\u001b[43margs\u001b[49m\u001b[43m,\u001b[49m\u001b[43m \u001b[49m\u001b[38;5;241;43m*\u001b[39;49m\u001b[38;5;241;43m*\u001b[39;49m\u001b[43mkwargs\u001b[49m\u001b[43m)\u001b[49m\n",
      "\u001b[0;31mFileNotFoundError\u001b[0m: [Errno 2] No such file or directory: '../math_qa_all.json_v1'"
     ]
    }
   ],
   "source": [
    "# 1. import testing Question dataset [Q]\n",
    "with open(\"../math_qa_all_v1.json\", \"r\") as qf:\n",
    "    data = json.load(qf)\n",
    "    page_content = [q['content'] for q in data]\n",
    "    page_number = [q['page'] for q in data]\n",
    "    questions: list = [q['Q'] for q in data]\n",
    "    answers: list = [q['A'] for q in data]"
   ]
  },
  {
   "cell_type": "code",
   "execution_count": 6,
   "metadata": {},
   "outputs": [],
   "source": [
    "model_name = 'thenlper/gte-large'\n",
    "model = SentenceTransformer(model_name)"
   ]
  },
  {
   "cell_type": "code",
   "execution_count": 8,
   "metadata": {},
   "outputs": [],
   "source": [
    "page_embeddings: np.ndarray = model.encode(page_content) \n",
    "questions_embeddings: np.ndarray  = model.encode(questions)"
   ]
  },
  {
   "cell_type": "code",
   "execution_count": 10,
   "metadata": {},
   "outputs": [],
   "source": [
    "for i in range(len(data)):\n",
    "    data[i]['page_embedding'] = page_embeddings[i]\n",
    "    data[i]['question_embedding'] = questions_embeddings[i]"
   ]
  },
  {
   "cell_type": "code",
   "execution_count": 12,
   "metadata": {},
   "outputs": [],
   "source": [
    "# question_retrived_page_rank = []\n",
    "for i in range(len(data)):\n",
    "    similarity = [float(cos_sim(data[i]['question_embedding'], page_embed)) for page_embed in page_embeddings]\n",
    "    question_retrived_page_rank = [{k: v} for k, v in zip(page_number, similarity)]\n",
    "    data[i]['question_retrived_page_rank'] = question_retrived_page_rank"
   ]
  },
  {
   "cell_type": "code",
   "execution_count": 54,
   "metadata": {},
   "outputs": [],
   "source": [
    "for i in range(len(data)):\n",
    "    data[i]['question_retrived_page_rank'] = sorted(data[i]['question_retrived_page_rank'], key = lambda d: list(d.values())[0], reverse=True)"
   ]
  },
  {
   "cell_type": "code",
   "execution_count": 59,
   "metadata": {},
   "outputs": [],
   "source": [
    "top1 = 0\n",
    "top3 = 0\n",
    "top5 = 0\n",
    "top10 = 0\n",
    "top20 = 0\n",
    "top50 = 0\n",
    "top100 = 0\n",
    "\n",
    "page_distances = [] # the distances of the correct page and retrieved page\n",
    "scores = [] # the score of the corresponding page and question\n",
    "correct_rank = [] # the index of the correct page in the retrieved results.\n",
    "\n",
    "for i in range(len(data)):\n",
    "    page_number = data[i]['page']\n",
    "    retrived_page_rank = [list(data[i]['question_retrived_page_rank'][d].keys())[0] for d in range(len(data[i]['question_retrived_page_rank']))]\n",
    "    correct_page_rank = retrived_page_rank.index(page_number)\n",
    "    correct_rank.append(correct_page_rank)\n",
    "    page_distances.append(abs(page_number - retrived_page_rank[0]))\n",
    "    scores.append(cos_sim(data[i]['question_embedding'], data[i]['page_embedding']))\n",
    "    \n",
    "    if page_number in retrived_page_rank[:1]: top1 += 1\n",
    "    if page_number in retrived_page_rank[:3]: top3 += 1\n",
    "    if page_number in retrived_page_rank[:5]: top5 += 1\n",
    "    if page_number in retrived_page_rank[:10]: top10 += 1\n",
    "    if page_number in retrived_page_rank[:20]: top20 += 1\n",
    "    if page_number in retrived_page_rank[:50]: top50 += 1\n",
    "    if page_number in retrived_page_rank[:100]: top100 += 1   "
   ]
  },
  {
   "cell_type": "code",
   "execution_count": 60,
   "metadata": {},
   "outputs": [
    {
     "name": "stdout",
     "output_type": "stream",
     "text": [
      "228\n",
      "349\n",
      "394\n",
      "435\n",
      "471\n",
      "489\n",
      "493\n"
     ]
    }
   ],
   "source": [
    "print(top1)\n",
    "print(top3)\n",
    "print(top5)\n",
    "print(top10)\n",
    "print(top20)\n",
    "print(top50)\n",
    "print(top100)\n"
   ]
  },
  {
   "cell_type": "code",
   "execution_count": 70,
   "metadata": {},
   "outputs": [
    {
     "name": "stdout",
     "output_type": "stream",
     "text": [
      "Avg score: 0.8884187936782837\n",
      "Avg rank: 6.3453815261044175\n",
      "Avg page distance: 24.204819277108435\n"
     ]
    }
   ],
   "source": [
    "print(\"Avg score: \" + str(float(sum(scores) / len(scores))))\n",
    "print(\"Avg rank: \" + str(sum(correct_rank) / len(correct_rank)))\n",
    "print(\"Avg page distance: \" + str(sum(page_distances)/len(page_distances)))"
   ]
  }
 ],
 "metadata": {
  "kernelspec": {
   "display_name": "Python 3",
   "language": "python",
   "name": "python3"
  },
  "language_info": {
   "codemirror_mode": {
    "name": "ipython",
    "version": 3
   },
   "file_extension": ".py",
   "mimetype": "text/x-python",
   "name": "python",
   "nbconvert_exporter": "python",
   "pygments_lexer": "ipython3",
   "version": "3.9.19"
  }
 },
 "nbformat": 4,
 "nbformat_minor": 2
}
