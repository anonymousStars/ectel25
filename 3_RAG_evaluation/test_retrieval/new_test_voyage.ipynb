{
 "cells": [
  {
   "cell_type": "code",
   "execution_count": 9,
   "metadata": {},
   "outputs": [],
   "source": [
    "import json\n",
    "from sentence_transformers import SentenceTransformer\n",
    "from sentence_transformers.util import cos_sim\n",
    "import numpy as np"
   ]
  },
  {
   "cell_type": "code",
   "execution_count": 23,
   "metadata": {},
   "outputs": [],
   "source": [
    "import voyageai\n",
    "\n",
    "vo = voyageai.Client(api_key=\"pa-qePwGAS_4DABZtDIzXKIQdsYkayhv2s770Tsw3XwAHt\")\n",
    "# This will automatically use the environment variable VOYAGE_API_KEY.\n",
    "# Alternatively, you can use vo = voyageai.Client(api_key=\"<your secret key>\")\n",
    "\n",
    "result = vo.embed([\"hello world\"], model=\"voyage-3-large\")"
   ]
  },
  {
   "cell_type": "code",
   "execution_count": 10,
   "metadata": {},
   "outputs": [],
   "source": [
    "# 1. import testing Question dataset [Q]\n",
    "with open(\"../math_qa_all_v1.json\", \"r\") as qf:\n",
    "    data = json.load(qf)\n",
    "    page_content = [q['content'] for q in data]\n",
    "    page_number = [q['page'] for q in data]\n",
    "    questions: list = [q['Q'] for q in data]\n",
    "    answers: list = [q['A'] for q in data]"
   ]
  },
  {
   "cell_type": "code",
   "execution_count": 21,
   "metadata": {},
   "outputs": [
    {
     "data": {
      "text/plain": [
       "[['b'], ['c']]"
      ]
     },
     "execution_count": 21,
     "metadata": {},
     "output_type": "execute_result"
    }
   ],
   "source": [
    "a = []\n",
    "b = [[\"b\"], [\"c\"]]\n",
    "b[0:10]"
   ]
  },
  {
   "cell_type": "code",
   "execution_count": 24,
   "metadata": {},
   "outputs": [],
   "source": [
    "page_embeddings: list = []\n",
    "questions_embeddings: list = []\n",
    "for i in range(len(data) // 128 + 1):\n",
    "    page_embeddings += vo.embed(page_content[i * 128: (i + 1) * 128], model=\"voyage-3-large\").embeddings\n",
    "    questions_embeddings += vo.embed(questions[i * 128: (i + 1) * 128], model=\"voyage-3-large\").embeddings\n",
    "\n",
    "# page_embeddings: np.ndarray = model.encode(page_content)\n",
    "# questions_embeddings: np.ndarray  = model.encode(questions, prompt_name=query_prompt_name)"
   ]
  },
  {
   "cell_type": "code",
   "execution_count": 26,
   "metadata": {},
   "outputs": [],
   "source": [
    "for i in range(len(data)):\n",
    "    data[i]['page_embedding'] = page_embeddings[i]\n",
    "    data[i]['question_embedding'] = questions_embeddings[i]"
   ]
  },
  {
   "cell_type": "code",
   "execution_count": 29,
   "metadata": {},
   "outputs": [],
   "source": [
    "# question_retrived_page_rank = []\n",
    "for i in range(len(data)):\n",
    "    similarity = [float(cos_sim(data[i]['question_embedding'], page_embed)) for page_embed in page_embeddings]\n",
    "    question_retrived_page_rank = [{k: v} for k, v in zip(page_number, similarity)]\n",
    "    data[i]['question_retrived_page_rank'] = question_retrived_page_rank"
   ]
  },
  {
   "cell_type": "code",
   "execution_count": 30,
   "metadata": {},
   "outputs": [],
   "source": [
    "for i in range(len(data)):\n",
    "    data[i]['question_retrived_page_rank'] = sorted(data[i]['question_retrived_page_rank'], key = lambda d: list(d.values())[0], reverse=True)"
   ]
  },
  {
   "cell_type": "code",
   "execution_count": 31,
   "metadata": {},
   "outputs": [],
   "source": [
    "top1 = 0\n",
    "top3 = 0\n",
    "top5 = 0\n",
    "top10 = 0\n",
    "top20 = 0\n",
    "top50 = 0\n",
    "top100 = 0\n",
    "\n",
    "page_distances = [] # the distances of the correct page and retrieved page\n",
    "scores = [] # the score of the corresponding page and question\n",
    "correct_rank = [] # the index of the correct page in the retrieved results.\n",
    "\n",
    "for i in range(len(data)):\n",
    "    page_number = data[i]['page']\n",
    "    retrived_page_rank = [list(data[i]['question_retrived_page_rank'][d].keys())[0] for d in range(len(data[i]['question_retrived_page_rank']))]\n",
    "    correct_page_rank = retrived_page_rank.index(page_number)\n",
    "    correct_rank.append(correct_page_rank)\n",
    "    page_distances.append(abs(page_number - retrived_page_rank[0]))\n",
    "    scores.append(cos_sim(data[i]['question_embedding'], data[i]['page_embedding']))\n",
    "    \n",
    "    if page_number in retrived_page_rank[:1]: top1 += 1\n",
    "    if page_number in retrived_page_rank[:3]: top3 += 1\n",
    "    if page_number in retrived_page_rank[:5]: top5 += 1\n",
    "    if page_number in retrived_page_rank[:10]: top10 += 1\n",
    "    if page_number in retrived_page_rank[:20]: top20 += 1\n",
    "    if page_number in retrived_page_rank[:50]: top50 += 1\n",
    "    if page_number in retrived_page_rank[:100]: top100 += 1   "
   ]
  },
  {
   "cell_type": "code",
   "execution_count": 32,
   "metadata": {},
   "outputs": [
    {
     "name": "stdout",
     "output_type": "stream",
     "text": [
      "327\n",
      "434\n",
      "457\n",
      "474\n",
      "474\n",
      "476\n",
      "477\n"
     ]
    }
   ],
   "source": [
    "print(top1)\n",
    "print(top3)\n",
    "print(top5)\n",
    "print(top10)\n",
    "print(top20)\n",
    "print(top50)\n",
    "print(top100)\n"
   ]
  },
  {
   "cell_type": "code",
   "execution_count": 33,
   "metadata": {},
   "outputs": [
    {
     "name": "stdout",
     "output_type": "stream",
     "text": [
      "Avg score: 0.7667664885520935\n",
      "Avg rank: 0.8742138364779874\n",
      "Avg page distance: 12.184486373165619\n"
     ]
    }
   ],
   "source": [
    "print(\"Avg score: \" + str(float(sum(scores) / len(scores))))\n",
    "print(\"Avg rank: \" + str(sum(correct_rank) / len(correct_rank)))\n",
    "print(\"Avg page distance: \" + str(sum(page_distances)/len(page_distances)))"
   ]
  },
  {
   "cell_type": "code",
   "execution_count": 34,
   "metadata": {},
   "outputs": [],
   "source": [
    "import pickle\n",
    "\n",
    "with open('voyage.pkl', 'wb') as f:\n",
    "    pickle.dump(data, f)\n",
    "    "
   ]
  }
 ],
 "metadata": {
  "kernelspec": {
   "display_name": "Python 3",
   "language": "python",
   "name": "python3"
  },
  "language_info": {
   "codemirror_mode": {
    "name": "ipython",
    "version": 3
   },
   "file_extension": ".py",
   "mimetype": "text/x-python",
   "name": "python",
   "nbconvert_exporter": "python",
   "pygments_lexer": "ipython3",
   "version": "3.9.19"
  }
 },
 "nbformat": 4,
 "nbformat_minor": 2
}
