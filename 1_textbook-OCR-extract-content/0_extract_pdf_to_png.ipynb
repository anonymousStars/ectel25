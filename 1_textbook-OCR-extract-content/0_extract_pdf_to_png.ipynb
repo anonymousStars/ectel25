{
 "cells": [
  {
   "cell_type": "code",
   "execution_count": null,
   "metadata": {},
   "outputs": [],
   "source": [
    "import os\n",
    "from pdf2image import convert_from_path\n",
    "\n",
    "# Path to your PDF file\n",
    "pdf_file = \"./textbook.pdf\"\n",
    "\n",
    "# Output directory for images\n",
    "output_dir = \"./textbook_screenshot/\"\n",
    "os.makedirs(output_dir, exist_ok=True)\n",
    "\n",
    "# Convert PDF pages to images and save them\n",
    "pages = convert_from_path(pdf_file, 300)  # 300 DPI for good quality\n",
    "\n",
    "for i, page in enumerate(pages):\n",
    "    image_path = os.path.join(output_dir, f\"{i + 1}.png\")\n",
    "    page.save(image_path, \"PNG\")\n",
    "    #print(f\"Saved page {i + 1} as {image_path}\")\n",
    "\n",
    "print(\"All pages have been saved as PNG images.\")\n"
   ]
  },
  {
   "cell_type": "code",
   "execution_count": null,
   "metadata": {},
   "outputs": [],
   "source": []
  }
 ],
 "metadata": {
  "kernelspec": {
   "display_name": "base",
   "language": "python",
   "name": "python3"
  },
  "language_info": {
   "codemirror_mode": {
    "name": "ipython",
    "version": 3
   },
   "file_extension": ".py",
   "mimetype": "text/x-python",
   "name": "python",
   "nbconvert_exporter": "python",
   "pygments_lexer": "ipython3",
   "version": "3.11.0"
  }
 },
 "nbformat": 4,
 "nbformat_minor": 2
}
