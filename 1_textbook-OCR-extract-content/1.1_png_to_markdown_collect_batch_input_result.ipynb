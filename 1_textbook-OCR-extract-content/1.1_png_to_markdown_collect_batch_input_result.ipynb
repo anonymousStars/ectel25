{
 "cells": [
  {
   "cell_type": "code",
   "execution_count": 1,
   "metadata": {},
   "outputs": [],
   "source": [
    "import dotenv, os\n",
    "import openai\n",
    "from openai import OpenAI\n",
    "import json\n",
    "dotenv.load_dotenv()\n",
    "openai.api_key  = os.getenv(\"OPENAI_API_KEY\")\n",
    "client = OpenAI()"
   ]
  },
  {
   "cell_type": "code",
   "execution_count": 2,
   "metadata": {},
   "outputs": [
    {
     "data": {
      "text/plain": [
       "[Batch(id='batch_k0kFYGIADP2J5F8ued9EfOzt', completion_window='24h', created_at=1725624677, endpoint='/v1/chat/completions', input_file_id='file-CdHsRgzHfTiEhZe034BFnOyy', object='batch', status='completed', cancelled_at=None, cancelling_at=None, completed_at=1725625614, error_file_id=None, errors=None, expired_at=None, expires_at=1725711077, failed_at=None, finalizing_at=1725625611, in_progress_at=1725624678, metadata={'description': 'nightly eval jobfile-CdHsRgzHfTiEhZe034BFnOyy'}, output_file_id='file-lre2fZ7MWGjYgzilDL4yZNPz', request_counts=BatchRequestCounts(completed=28, failed=0, total=28)),\n",
       " Batch(id='batch_kdwLHYNDWaVf4Rw4KDhzPhSC', completion_window='24h', created_at=1725624677, endpoint='/v1/chat/completions', input_file_id='file-t2EzdNyZuUmvoJLwfSTRjuRJ', object='batch', status='completed', cancelled_at=None, cancelling_at=None, completed_at=1725626034, error_file_id=None, errors=None, expired_at=None, expires_at=1725711077, failed_at=None, finalizing_at=1725626019, in_progress_at=1725624680, metadata={'description': 'nightly eval jobfile-t2EzdNyZuUmvoJLwfSTRjuRJ'}, output_file_id='file-L0EZekloljYsUtav0rnhCU8S', request_counts=BatchRequestCounts(completed=200, failed=0, total=200)),\n",
       " Batch(id='batch_lqS68bfqTjGCI0erFaB90gM3', completion_window='24h', created_at=1725624677, endpoint='/v1/chat/completions', input_file_id='file-6B3ZODKvddSa89G2ru30io1o', object='batch', status='completed', cancelled_at=None, cancelling_at=None, completed_at=1725626034, error_file_id=None, errors=None, expired_at=None, expires_at=1725711077, failed_at=None, finalizing_at=1725626018, in_progress_at=1725624679, metadata={'description': 'nightly eval jobfile-6B3ZODKvddSa89G2ru30io1o'}, output_file_id='file-bcjhWenjaUGU4WCVy1By5Nas', request_counts=BatchRequestCounts(completed=200, failed=0, total=200)),\n",
       " Batch(id='batch_KoBg3DZn8Ibsx9KQ5UgDbm7J', completion_window='24h', created_at=1725624676, endpoint='/v1/chat/completions', input_file_id='file-WI0JlFm5TMR8ZNm1S6eysd62', object='batch', status='completed', cancelled_at=None, cancelling_at=None, completed_at=1725626036, error_file_id=None, errors=None, expired_at=None, expires_at=1725711076, failed_at=None, finalizing_at=1725626019, in_progress_at=1725624678, metadata={'description': 'nightly eval jobfile-WI0JlFm5TMR8ZNm1S6eysd62'}, output_file_id='file-flIsMvC3VHfZhmOTzAuFEPLm', request_counts=BatchRequestCounts(completed=200, failed=0, total=200))]"
      ]
     },
     "execution_count": 2,
     "metadata": {},
     "output_type": "execute_result"
    }
   ],
   "source": [
    "result = client.batches.list()\n",
    "result.data"
   ]
  },
  {
   "cell_type": "code",
   "execution_count": 3,
   "metadata": {},
   "outputs": [
    {
     "data": {
      "text/plain": [
       "['batch_KoBg3DZn8Ibsx9KQ5UgDbm7J',\n",
       " 'batch_lqS68bfqTjGCI0erFaB90gM3',\n",
       " 'batch_kdwLHYNDWaVf4Rw4KDhzPhSC',\n",
       " 'batch_k0kFYGIADP2J5F8ued9EfOzt']"
      ]
     },
     "execution_count": 3,
     "metadata": {},
     "output_type": "execute_result"
    }
   ],
   "source": [
    "\n",
    "# Load batch job id from a json file\n",
    "jsonl_file_path = \"./0906_request.jsonl\"\n",
    "with open(f\"./{jsonl_file_path}batch_job_ids.json\", \"r\") as f:\n",
    "    batch_job_ids = json.load(f)\n",
    "batch_job_ids"
   ]
  },
  {
   "cell_type": "code",
   "execution_count": 4,
   "metadata": {},
   "outputs": [],
   "source": [
    "file_responses = []\n",
    "for batch_job_id in batch_job_ids:\n",
    "    result = client.batches.retrieve(batch_job_id)\n",
    "    file_response = client.files.content(result.output_file_id)\n",
    "    file_responses += (file_response.text.split(\"\\n\"))"
   ]
  },
  {
   "cell_type": "code",
   "execution_count": 5,
   "metadata": {},
   "outputs": [],
   "source": [
    "jsonl_file_responses = [json.loads(file_response) for file_response in file_responses if file_response != \"\"]\n",
    "\n",
    "# save to json, responses in the response_list\n",
    "with open(f\"./{jsonl_file_path}_output.json\", \"w\") as f:\n",
    "    json.dump(jsonl_file_responses, f)"
   ]
  },
  {
   "cell_type": "code",
   "execution_count": 6,
   "metadata": {},
   "outputs": [
    {
     "data": {
      "text/plain": [
       "{'id': 'batch_req_Fcn2zZt4JNVUFArjuOxa8C8z',\n",
       " 'custom_id': '9762983e7ad7043d5907acecd57cc2a6b2838af12c80794d360c983c5a68e130_10621958',\n",
       " 'response': {'status_code': 200,\n",
       "  'request_id': '91b45f532b7572621207a7de81f8c297',\n",
       "  'body': {'id': 'chatcmpl-A4S9NVuHVaCRw2vOyIiAPDtsIiPKi',\n",
       "   'object': 'chat.completion',\n",
       "   'created': 1725624885,\n",
       "   'model': 'gpt-4o-2024-08-06',\n",
       "   'choices': [{'index': 0,\n",
       "     'message': {'role': 'assistant',\n",
       "      'content': '<markdown>\\n# An Infinite Descent into Pure Mathematics\\n\\n**by Clive Newstead**\\n\\n*Version 0.5*  \\n*Last updated on Saturday 24th December 2022*  \\n[https://infinitedescent.xyz](https://infinitedescent.xyz)\\n</markdown>',\n",
       "      'refusal': None},\n",
       "     'logprobs': None,\n",
       "     'finish_reason': 'stop'}],\n",
       "   'usage': {'prompt_tokens': 1208,\n",
       "    'completion_tokens': 63,\n",
       "    'total_tokens': 1271},\n",
       "   'system_fingerprint': 'fp_8e1177b306'}},\n",
       " 'error': None}"
      ]
     },
     "execution_count": 6,
     "metadata": {},
     "output_type": "execute_result"
    }
   ],
   "source": [
    "jsonl_file_responses[0]"
   ]
  },
  {
   "cell_type": "code",
   "execution_count": 18,
   "metadata": {},
   "outputs": [],
   "source": [
    "# output them to textbook.md\n",
    "with open(f\"./{jsonl_file_path}_output.md\", \"w\") as f:\n",
    "    for response in jsonl_file_responses:\n",
    "        f.write(response['response']['body']['choices'][0]['message']['content'])"
   ]
  },
  {
   "cell_type": "code",
   "execution_count": 16,
   "metadata": {},
   "outputs": [
    {
     "data": {
      "text/plain": [
       "'<markdown>\\n# An Infinite Descent into Pure Mathematics\\n\\n**by Clive Newstead**\\n\\n*Version 0.5*  \\n*Last updated on Saturday 24th December 2022*  \\n[https://infinitedescent.xyz](https://infinitedescent.xyz)\\n</markdown>'"
      ]
     },
     "execution_count": 16,
     "metadata": {},
     "output_type": "execute_result"
    }
   ],
   "source": []
  },
  {
   "cell_type": "code",
   "execution_count": null,
   "metadata": {},
   "outputs": [],
   "source": []
  }
 ],
 "metadata": {
  "kernelspec": {
   "display_name": "base",
   "language": "python",
   "name": "python3"
  },
  "language_info": {
   "codemirror_mode": {
    "name": "ipython",
    "version": 3
   },
   "file_extension": ".py",
   "mimetype": "text/x-python",
   "name": "python",
   "nbconvert_exporter": "python",
   "pygments_lexer": "ipython3",
   "version": "3.11.0"
  }
 },
 "nbformat": 4,
 "nbformat_minor": 2
}
